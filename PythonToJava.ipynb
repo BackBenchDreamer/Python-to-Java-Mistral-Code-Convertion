{
  "nbformat": 4,
  "nbformat_minor": 0,
  "metadata": {
    "colab": {
      "provenance": [],
      "gpuType": "T4",
      "authorship_tag": "ABX9TyMzyFzVXmmZynOEN369En17",
      "include_colab_link": true
    },
    "kernelspec": {
      "name": "python3",
      "display_name": "Python 3"
    },
    "language_info": {
      "name": "python"
    },
    "accelerator": "GPU"
  },
  "cells": [
    {
      "cell_type": "markdown",
      "metadata": {
        "id": "view-in-github",
        "colab_type": "text"
      },
      "source": [
        "<a href=\"https://colab.research.google.com/github/BackBenchDreamer/Python-to-Java-Mistral-Code-Convertion/blob/main/PythonToJava.ipynb\" target=\"_parent\"><img src=\"https://colab.research.google.com/assets/colab-badge.svg\" alt=\"Open In Colab\"/></a>"
      ]
    },
    {
      "cell_type": "code",
      "source": [
        "!pip install requests\n",
        "import os\n",
        "import requests\n",
        "import json\n",
        "from google.colab import drive\n",
        "drive.mount('/content/drive')\n",
        "\n",
        "# Read the API key from the file\n",
        "key_path = '/content/drive/MyDrive/Secrets/mistral.key'\n",
        "\n",
        "with open(key_path, 'r') as file:\n",
        "    api_key = file.read().strip()\n",
        "\n",
        "os.environ['MISTRAL_API_KEY'] = api_key\n",
        "\n",
        "# Now you can use it securely\n",
        "print(\"API Key loaded securely ✅\")\n",
        "\n",
        "def translate_python_to_java(python_code):\n",
        "    api_url = \"https://api.mistral.ai/v1/fim/completions\"\n",
        "    headers = {\n",
        "        \"Content-Type\": \"application/json\",\n",
        "        \"Authorization\": f\"Bearer {os.getenv('MISTRAL_API_KEY')}\"\n",
        "    }\n",
        "    prompt = f\"### Translate the following Python code to Java:\\n{python_code}\\n### Java Code:\\n\"\n",
        "    payload = {\n",
        "        \"model\": \"codestral-latest\",\n",
        "        \"prompt\": prompt,\n",
        "        \"suffix\": \"\",\n",
        "        \"max_tokens\": 150,\n",
        "        \"temperature\": 0\n",
        "    }\n",
        "    response = requests.post(api_url, headers=headers, data=json.dumps(payload))\n",
        "    if response.status_code == 200:\n",
        "        result = response.json()\n",
        "        return result['choices'][0]['message']['content'].strip()\n",
        "    else:\n",
        "        raise Exception(f\"Error {response.status_code}: {response.text}\")\n"
      ],
      "metadata": {
        "colab": {
          "base_uri": "https://localhost:8080/"
        },
        "id": "la47JyDPmWwg",
        "outputId": "266224f8-562f-4cd3-be30-c3f281a208b0"
      },
      "execution_count": null,
      "outputs": [
        {
          "output_type": "stream",
          "name": "stdout",
          "text": [
            "Requirement already satisfied: requests in /usr/local/lib/python3.11/dist-packages (2.32.3)\n",
            "Requirement already satisfied: charset-normalizer<4,>=2 in /usr/local/lib/python3.11/dist-packages (from requests) (3.4.1)\n",
            "Requirement already satisfied: idna<4,>=2.5 in /usr/local/lib/python3.11/dist-packages (from requests) (3.10)\n",
            "Requirement already satisfied: urllib3<3,>=1.21.1 in /usr/local/lib/python3.11/dist-packages (from requests) (2.3.0)\n",
            "Requirement already satisfied: certifi>=2017.4.17 in /usr/local/lib/python3.11/dist-packages (from requests) (2025.1.31)\n"
          ]
        }
      ]
    },
    {
      "cell_type": "code",
      "source": [
        "python_code = '''\n",
        "class Task:\n",
        "    def __init__(self, description, completed=False):\n",
        "        self.description = description\n",
        "        self.completed = completed\n",
        "\n",
        "    def __str__(self):\n",
        "        status = \"Done\" if self.completed else \"Pending\"\n",
        "        return f\"{self.description} - {status}\"\n",
        "\n",
        "class ToDoList:\n",
        "    def __init__(self):\n",
        "        self.tasks = []\n",
        "\n",
        "    def add_task(self, description):\n",
        "        task = Task(description)\n",
        "        self.tasks.append(task)\n",
        "        print(f\"Task added: {task.description}\")\n",
        "\n",
        "    def view_tasks(self):\n",
        "        if not self.tasks:\n",
        "            print(\"No tasks in the list.\")\n",
        "            return\n",
        "        for index, task in enumerate(self.tasks, start=1):\n",
        "            print(f\"{index}. {task}\")\n",
        "\n",
        "    def mark_complete(self, index):\n",
        "        if 0 <= index < len(self.tasks):\n",
        "            self.tasks[index].completed = True\n",
        "            print(f\"Task marked as complete: {self.tasks[index].description}\")\n",
        "        else:\n",
        "            print(\"Invalid task number.\")\n",
        "\n",
        "    def delete_task(self, index):\n",
        "        if 0 <= index < len(self.tasks):\n",
        "            deleted_task = self.tasks.pop(index)\n",
        "            print(f\"Task deleted: {deleted_task.description}\")\n",
        "        else:\n",
        "            print(\"Invalid task number.\")\n",
        "\n",
        "def main():\n",
        "    todo_list = ToDoList()\n",
        "\n",
        "    while True:\n",
        "        print(\"\\nTo-Do List Menu:\")\n",
        "        print(\"1. Add Task\")\n",
        "        print(\"2. View Tasks\")\n",
        "        print(\"3. Mark Task as Complete\")\n",
        "        print(\"4. Delete Task\")\n",
        "        print(\"5. Exit\")\n",
        "\n",
        "        choice = input(\"Enter your choice: \")\n",
        "\n",
        "        if choice == \"1\":\n",
        "            description = input(\"Enter task description: \")\n",
        "            todo_list.add_task(description)\n",
        "        elif choice == \"2\":\n",
        "            todo_list.view_tasks()\n",
        "        elif choice == \"3\":\n",
        "            todo_list.view_tasks()\n",
        "            index = int(input(\"Enter the task number to mark as complete: \")) - 1\n",
        "            todo_list.mark_complete(index)\n",
        "        elif choice == \"4\":\n",
        "            todo_list.view_tasks()\n",
        "            index = int(input(\"Enter the task number to delete: \")) - 1\n",
        "            todo_list.delete_task(index)\n",
        "        elif choice == \"5\":\n",
        "            print(\"Exiting the to-do list application.\")\n",
        "            break\n",
        "        else:\n",
        "            print(\"Invalid choice. Please try again.\")\n",
        "\n",
        "if __name__ == \"__main__\":\n",
        "    main()\n",
        "\n",
        "'''\n",
        "try:\n",
        "    java_code = translate_python_to_java(python_code)\n",
        "    print(\"Translated Java Code:\\n\", java_code)\n",
        "except Exception as e:\n",
        "    print(e)"
      ],
      "metadata": {
        "colab": {
          "base_uri": "https://localhost:8080/"
        },
        "id": "kiq-T0fWo4MH",
        "outputId": "e6e4ae78-c956-4058-81c8-a779df6b86fd"
      },
      "execution_count": null,
      "outputs": [
        {
          "output_type": "stream",
          "name": "stdout",
          "text": [
            "Translated Java Code:\n",
            " ```java\n",
            "class Task {\n",
            "    private String description;\n",
            "    private boolean completed;\n",
            "\n",
            "    public Task(String description) {\n",
            "        this.description = description;\n",
            "        this.completed = false;\n",
            "    }\n",
            "\n",
            "    public String getDescription() {\n",
            "        return description;\n",
            "    }\n",
            "\n",
            "    public boolean isCompleted() {\n",
            "        return completed;\n",
            "    }\n",
            "\n",
            "    public void setCompleted(boolean completed) {\n",
            "        this.completed = completed;\n",
            "    }\n",
            "\n",
            "    @Override\n",
            "    public String toString() {\n",
            "        String status = completed ? \"Done\" : \"Pending\";\n",
            "        return description + \" - \" + status;\n",
            "    }\n",
            "}\n",
            "\n",
            "class ToDoList {\n",
            "    private List<Task> tasks;\n",
            "\n",
            "    public ToDoList() {\n",
            "        this.tasks = new ArrayList<>();\n",
            "    }\n"
          ]
        }
      ]
    }
  ]
}